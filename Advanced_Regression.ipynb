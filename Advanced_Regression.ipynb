{
 "cells": [
  {
   "cell_type": "markdown",
   "id": "041ac316",
   "metadata": {},
   "source": [
    "<div style=\"background-color:#bf283c;\">\n",
    "    <p style=\"color:DarkTurquoise;font-size:1px\"> |\n",
    "    </p>\n",
    "    </p>\n",
    "    <p style=\"color:DarkTurquoise;font-size:1px\"> |\n",
    "    </p>\n",
    "    <h1 style=\"color:White;font-family:'Arial';font-size:30px\"><center>Advanced Regression - House Price Prediction</center></h1>\n",
    "    </p>\n",
    "    <p style=\"color:DarkTurquoise;font-size:1px\"> |\n",
    "    </p>\n",
    "    <p style=\"text-align:left;font-family:'Courier New';color:FloralWhite;font-size:16px\"> | PGP in Machine Learning and AI, IIITB |\n",
    "        <span style=\"float:center;font-family:'Courier New';color:White;font-size:16px\"> Master's in ML & AI, LJMU \n",
    "        </span>\n",
    "        <span style=\"float:right;font-family:'Courier New';color:White;font-size:16px\"> | In partner with UpGrad platform |\n",
    "        </span>\n",
    "    </p>\n",
    "    <p style=\"color:DarkTurquoise;font-size:1px\"> |\n",
    "    </p>\n",
    "</div>\n",
    "\n"
   ]
  },
  {
   "cell_type": "markdown",
   "id": "7f93eee7",
   "metadata": {},
   "source": [
    "----"
   ]
  },
  {
   "cell_type": "markdown",
   "id": "99004065",
   "metadata": {},
   "source": [
    "# Table of contents:\n",
    "1. [**Case Study Overview**](#1.-Case-Study-Overview)\n",
    "  + 1.1. [Introduction](#1.1-Introduction:)\n",
    "  + 1.2. [Business Understanding](#1.2-Business-Understanding:)\n",
    "  + 1.3. [Business Usecase](#1.3-Business-Usecase:)\n",
    "  + 1.4. [Software requirements](#1.4-Software-requirements:)\n",
    "  + 1.5. [Business Objectives](#1.5-Business-Objectives:)\n",
    "\n",
    "\n",
    "2. [**Explore Data**](#2.-Explore-Data) \n",
    "  + 2.1. [Load Data](#1.1-Gather-data-from-web:)\n",
    "  + 2.2. [Data Dictionary](#1.2-Dictionary-Exploration:)\n",
    "  + 2.3. [Dataset Exploration](#1.4-Dataset-Exploration:)"
   ]
  },
  {
   "cell_type": "markdown",
   "id": "a4c992cf",
   "metadata": {},
   "source": [
    "---"
   ]
  },
  {
   "cell_type": "markdown",
   "id": "3392c99c",
   "metadata": {},
   "source": [
    "## 1. `Case Study Overview`\n",
    "================================="
   ]
  },
  {
   "cell_type": "markdown",
   "id": "6fe97336",
   "metadata": {},
   "source": [
    "  + 1.1. [Introduction](#1.1-Introduction:)\n",
    "  + 1.2. [Business Understanding](#1.2-Business-Understanding:)\n",
    "  + 1.3. [Business Usecase](#1.3-Business-Usecase:)\n",
    "  + 1.4. [Software requirements](#1.4-Software-requirements:)\n",
    "  + 1.5. [Business Objectives](#1.5-Business-Objectives:)"
   ]
  },
  {
   "cell_type": "markdown",
   "id": "dd3cf973",
   "metadata": {},
   "source": [
    "### <ins>[1](#1.-Case-Study-Overview).1 Introduction:</ins>"
   ]
  },
  {
   "cell_type": "markdown",
   "id": "a46fd307",
   "metadata": {},
   "source": [
    "<p style='text-align: justify;'>\n",
    "A US-based housing company named <b>Surprise Housing</b> has decided to enter the Australian market. The company uses data analytics to purchase houses at a price below their actual values and flip them on at a higher price.\n",
    "</p>"
   ]
  },
  {
   "cell_type": "markdown",
   "id": "f8dadff8",
   "metadata": {},
   "source": [
    "### <ins>[1](#1.-Case-Study-Overview).2 Business Understanding:</ins>"
   ]
  },
  {
   "cell_type": "markdown",
   "id": "6233a278",
   "metadata": {},
   "source": [
    "<p style='text-align: justify;'>\n",
    "The company is looking at prospective properties to buy to enter the market. The task is to build a regression model using regularisation in order to predict the actual value of the prospective properties and decide whether to invest in them or not.\n",
    "</p>"
   ]
  },
  {
   "cell_type": "markdown",
   "id": "27b1e2d4",
   "metadata": {},
   "source": [
    "### <ins>[1](#1.-Case-Study-Overview).3 Business Usecase:</ins>"
   ]
  },
  {
   "cell_type": "markdown",
   "id": "3efbcbb1",
   "metadata": {},
   "source": [
    "The company wants to understand:\n",
    "+ Which variables are significant in predicting the price of a house, and\n",
    "+ How well those variables describe the price of a house.\n",
    "\n",
    "Along with the above details, determine the optimal value of `lambda` for `ridge` and `lasso` regression."
   ]
  },
  {
   "cell_type": "markdown",
   "id": "2713c690",
   "metadata": {},
   "source": [
    "### <ins>[1](#1.-Case-Study-Overview).4 Software requirements:</ins>"
   ]
  },
  {
   "cell_type": "markdown",
   "id": "164a1d9c",
   "metadata": {},
   "source": [
    "<p style=\"text-align:justify\">\n",
    "This case study uses `Python 3.10` version and is designed to be compatible with versions greater than '3.6'. It is highly recommended that you use the `Anaconda` distribution to install Python, since the distribution includes all necessary Python libraries as well as Jupyter Notebooks. The following libraries are expected to be used in this project:\n",
    "</p>\n",
    "\n",
    "+ NumPy\n",
    "+ Pandas\n",
    "+ Matplotlib\n",
    "+ Seaborn\n",
    "+ Math\n",
    "+ Conda\n",
    "+ Git\n",
    "+ Jupyter Notebook\n",
    "\n",
    "**NOTE:**\n",
    "\n",
    "<p style=\"text-align:justify\">An <mark>environment.yaml</mark> file is provided to install all the necessary libraries in the environment to replicate the same work flow.</p>"
   ]
  },
  {
   "cell_type": "markdown",
   "id": "4c16d28e",
   "metadata": {},
   "source": [
    "### <ins>[1](#1.-Case-Study-Overview).5 Business Objectives:</ins>"
   ]
  },
  {
   "cell_type": "markdown",
   "id": "30fe57f2",
   "metadata": {},
   "source": [
    "<p style='text-align: justify;'>\n",
    "It is required to model the price of houses with the available independent variables. This model will then be used by the management to understand how exactly the prices vary with the variables. They can accordingly manipulate the strategy of the firm and concentrate on areas that will yield high returns. Further, the model will be a good way for management to understand the pricing dynamics of a new market.\n",
    "</p'>"
   ]
  },
  {
   "cell_type": "markdown",
   "id": "1cf5d79b",
   "metadata": {},
   "source": [
    "   "
   ]
  },
  {
   "cell_type": "markdown",
   "id": "1b898853",
   "metadata": {},
   "source": [
    "    "
   ]
  },
  {
   "cell_type": "markdown",
   "id": "9ba6af49",
   "metadata": {},
   "source": [
    "<div>\n",
    "    <p style=\"text-align:center;font-family:'Courier New';font-size:14px\">-------- End of section <mark>1. Case Study Overview</mark> --------\n",
    "    </p>\n",
    "</div>"
   ]
  },
  {
   "cell_type": "markdown",
   "id": "60dd21ae",
   "metadata": {},
   "source": [
    "---"
   ]
  },
  {
   "cell_type": "markdown",
   "id": "a11fad1c",
   "metadata": {},
   "source": [
    "   "
   ]
  },
  {
   "cell_type": "markdown",
   "id": "97ee0e9e",
   "metadata": {},
   "source": [
    "    "
   ]
  },
  {
   "cell_type": "markdown",
   "id": "4927b996",
   "metadata": {},
   "source": [
    "## 2. `Data Exploration`\n",
    "==========================="
   ]
  },
  {
   "cell_type": "markdown",
   "id": "4a644243",
   "metadata": {},
   "source": [
    "  + 2.1. [Load Libraries](#2.1-Load-Libraries:)\n",
    "  + 2.2. [Load Data](#2.2-Load-Data:)\n",
    "  + 2.2. [Data Dictionary](#2.2-Dictionary-Exploration:)\n",
    "  + 2.3. [Dataset Exploration](#2.3-Dataset-Exploration:)"
   ]
  },
  {
   "cell_type": "markdown",
   "id": "7b7ee158",
   "metadata": {},
   "source": [
    "### <ins>[2](#2.-Explore-Data).1 Load Libraries:</ins>"
   ]
  },
  {
   "cell_type": "markdown",
   "id": "72b9f9e2",
   "metadata": {},
   "source": [
    "Load relevant libraries at this section to ease the maintainance and tracking."
   ]
  },
  {
   "cell_type": "code",
   "execution_count": 2,
   "id": "6910fb8f",
   "metadata": {},
   "outputs": [],
   "source": [
    "# import libraries\n",
    "import numpy as np\n",
    "import pandas as pd\n",
    "import matplotlib.pyplot as plt\n",
    "from matplotlib.lines import Line2D\n",
    "import matplotlib.patches as patches\n",
    "%matplotlib inline\n",
    "import seaborn as sb\n",
    "import traceback\n",
    "import math\n",
    "import datetime"
   ]
  },
  {
   "cell_type": "code",
   "execution_count": null,
   "id": "8775293c",
   "metadata": {},
   "outputs": [],
   "source": []
  },
  {
   "cell_type": "code",
   "execution_count": null,
   "id": "ab81241d",
   "metadata": {},
   "outputs": [],
   "source": []
  },
  {
   "cell_type": "code",
   "execution_count": null,
   "id": "7de924a3",
   "metadata": {},
   "outputs": [],
   "source": []
  },
  {
   "cell_type": "code",
   "execution_count": null,
   "id": "b97a47ec",
   "metadata": {},
   "outputs": [],
   "source": []
  },
  {
   "cell_type": "code",
   "execution_count": null,
   "id": "296fd680",
   "metadata": {},
   "outputs": [],
   "source": []
  },
  {
   "cell_type": "code",
   "execution_count": null,
   "id": "4db019f2",
   "metadata": {},
   "outputs": [],
   "source": []
  },
  {
   "cell_type": "code",
   "execution_count": null,
   "id": "d103793d",
   "metadata": {},
   "outputs": [],
   "source": []
  },
  {
   "cell_type": "code",
   "execution_count": null,
   "id": "64b2e9d1",
   "metadata": {},
   "outputs": [],
   "source": []
  },
  {
   "cell_type": "code",
   "execution_count": null,
   "id": "8f7f4b02",
   "metadata": {},
   "outputs": [],
   "source": []
  },
  {
   "cell_type": "code",
   "execution_count": null,
   "id": "9032109a",
   "metadata": {},
   "outputs": [],
   "source": []
  },
  {
   "cell_type": "code",
   "execution_count": null,
   "id": "fdc3355e",
   "metadata": {},
   "outputs": [],
   "source": []
  }
 ],
 "metadata": {
  "kernelspec": {
   "display_name": "Python 3",
   "language": "python",
   "name": "python3"
  },
  "language_info": {
   "codemirror_mode": {
    "name": "ipython",
    "version": 3
   },
   "file_extension": ".py",
   "mimetype": "text/x-python",
   "name": "python",
   "nbconvert_exporter": "python",
   "pygments_lexer": "ipython3",
   "version": "3.8.8"
  }
 },
 "nbformat": 4,
 "nbformat_minor": 5
}
